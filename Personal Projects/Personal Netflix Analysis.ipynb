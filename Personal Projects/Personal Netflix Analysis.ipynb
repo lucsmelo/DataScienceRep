{
 "cells": [
  {
   "cell_type": "markdown",
   "id": "4fa5975a",
   "metadata": {},
   "source": [
    "# Analyzing my NETFLIX personal data"
   ]
  },
  {
   "cell_type": "markdown",
   "id": "a3511a8b",
   "metadata": {},
   "source": [
    "Even though I'm not a very active netflix viewer nowadays, I saw some shows back in the days.\n",
    "\n",
    "This notebook will have the overview of the data and also an analysis of my favorite show."
   ]
  },
  {
   "cell_type": "code",
   "execution_count": 36,
   "id": "9adfff90",
   "metadata": {},
   "outputs": [],
   "source": [
    "import pandas as pd\n",
    "import matplotlib.pyplot as plt\n",
    "pd.options.mode.chained_assignment = None"
   ]
  },
  {
   "cell_type": "markdown",
   "id": "b3feee38",
   "metadata": {},
   "source": [
    "# Import the data"
   ]
  },
  {
   "cell_type": "code",
   "execution_count": 37,
   "id": "d6791cca",
   "metadata": {},
   "outputs": [],
   "source": [
    "df= pd.read_csv('ViewingActivity.csv')"
   ]
  },
  {
   "cell_type": "markdown",
   "id": "915883d7",
   "metadata": {},
   "source": [
    "# Data PreProcessing\n"
   ]
  },
  {
   "cell_type": "code",
   "execution_count": 38,
   "id": "147b00dd",
   "metadata": {},
   "outputs": [
    {
     "data": {
      "text/plain": [
       "(1994, 10)"
      ]
     },
     "execution_count": 38,
     "metadata": {},
     "output_type": "execute_result"
    }
   ],
   "source": [
    "df.shape"
   ]
  },
  {
   "cell_type": "code",
   "execution_count": 39,
   "id": "f55c6f0d",
   "metadata": {},
   "outputs": [
    {
     "name": "stdout",
     "output_type": "stream",
     "text": [
      "<class 'pandas.core.frame.DataFrame'>\n",
      "RangeIndex: 1994 entries, 0 to 1993\n",
      "Data columns (total 10 columns):\n",
      " #   Column                   Non-Null Count  Dtype \n",
      "---  ------                   --------------  ----- \n",
      " 0   Profile Name             1994 non-null   object\n",
      " 1   Start Time               1994 non-null   object\n",
      " 2   Duration                 1994 non-null   object\n",
      " 3   Attributes               737 non-null    object\n",
      " 4   Title                    1994 non-null   object\n",
      " 5   Supplemental Video Type  122 non-null    object\n",
      " 6   Device Type              1994 non-null   object\n",
      " 7   Bookmark                 1994 non-null   object\n",
      " 8   Latest Bookmark          1994 non-null   object\n",
      " 9   Country                  1994 non-null   object\n",
      "dtypes: object(10)\n",
      "memory usage: 155.9+ KB\n"
     ]
    }
   ],
   "source": [
    "df.info()"
   ]
  },
  {
   "cell_type": "code",
   "execution_count": 40,
   "id": "7b468663",
   "metadata": {},
   "outputs": [
    {
     "data": {
      "text/html": [
       "<div>\n",
       "<style scoped>\n",
       "    .dataframe tbody tr th:only-of-type {\n",
       "        vertical-align: middle;\n",
       "    }\n",
       "\n",
       "    .dataframe tbody tr th {\n",
       "        vertical-align: top;\n",
       "    }\n",
       "\n",
       "    .dataframe thead th {\n",
       "        text-align: right;\n",
       "    }\n",
       "</style>\n",
       "<table border=\"1\" class=\"dataframe\">\n",
       "  <thead>\n",
       "    <tr style=\"text-align: right;\">\n",
       "      <th></th>\n",
       "      <th>Profile Name</th>\n",
       "      <th>Start Time</th>\n",
       "      <th>Duration</th>\n",
       "      <th>Attributes</th>\n",
       "      <th>Title</th>\n",
       "      <th>Supplemental Video Type</th>\n",
       "      <th>Device Type</th>\n",
       "      <th>Bookmark</th>\n",
       "      <th>Latest Bookmark</th>\n",
       "      <th>Country</th>\n",
       "    </tr>\n",
       "  </thead>\n",
       "  <tbody>\n",
       "    <tr>\n",
       "      <th>0</th>\n",
       "      <td>Lucas</td>\n",
       "      <td>2021-07-04 04:14:11</td>\n",
       "      <td>00:00:14</td>\n",
       "      <td>NaN</td>\n",
       "      <td>Elite: Temporada 4: A nova ordem (Episódio 1)</td>\n",
       "      <td>NaN</td>\n",
       "      <td>Chrome PC (Cadmium)</td>\n",
       "      <td>00:00:15</td>\n",
       "      <td>00:00:15</td>\n",
       "      <td>BR (Brazil)</td>\n",
       "    </tr>\n",
       "    <tr>\n",
       "      <th>1</th>\n",
       "      <td>Lucas</td>\n",
       "      <td>2021-07-03 16:52:54</td>\n",
       "      <td>00:00:01</td>\n",
       "      <td>Autoplayed: user action: User_Interaction;</td>\n",
       "      <td>Elite: Temporada 4: A nova ordem (Episódio 1)</td>\n",
       "      <td>NaN</td>\n",
       "      <td>Chrome PC (Cadmium)</td>\n",
       "      <td>00:00:01</td>\n",
       "      <td>Not latest view</td>\n",
       "      <td>BR (Brazil)</td>\n",
       "    </tr>\n",
       "    <tr>\n",
       "      <th>2</th>\n",
       "      <td>Lucas</td>\n",
       "      <td>2021-07-03 04:30:05</td>\n",
       "      <td>00:00:04</td>\n",
       "      <td>Autoplayed: user action: None;</td>\n",
       "      <td>Temporada 2 (Trailer): Mortel</td>\n",
       "      <td>TRAILER</td>\n",
       "      <td>Chrome PC (Cadmium)</td>\n",
       "      <td>00:00:04</td>\n",
       "      <td>00:00:04</td>\n",
       "      <td>BR (Brazil)</td>\n",
       "    </tr>\n",
       "    <tr>\n",
       "      <th>3</th>\n",
       "      <td>Lucas</td>\n",
       "      <td>2021-07-01 19:15:32</td>\n",
       "      <td>00:00:01</td>\n",
       "      <td>Autoplayed: user action: None;</td>\n",
       "      <td>O Mito de Sísifo: Temporada 1: Episódio 1 (Epi...</td>\n",
       "      <td>NaN</td>\n",
       "      <td>Samsung 2017 Kant-M UHD TV Smart TV</td>\n",
       "      <td>00:00:01</td>\n",
       "      <td>00:00:01</td>\n",
       "      <td>BR (Brazil)</td>\n",
       "    </tr>\n",
       "    <tr>\n",
       "      <th>4</th>\n",
       "      <td>Lucas</td>\n",
       "      <td>2021-06-27 04:00:28</td>\n",
       "      <td>00:02:28</td>\n",
       "      <td>NaN</td>\n",
       "      <td>The A List: Temporada 2: Quem nós realmente so...</td>\n",
       "      <td>NaN</td>\n",
       "      <td>Chrome PC (Cadmium)</td>\n",
       "      <td>00:25:15</td>\n",
       "      <td>00:25:15</td>\n",
       "      <td>BR (Brazil)</td>\n",
       "    </tr>\n",
       "  </tbody>\n",
       "</table>\n",
       "</div>"
      ],
      "text/plain": [
       "  Profile Name           Start Time  Duration  \\\n",
       "0        Lucas  2021-07-04 04:14:11  00:00:14   \n",
       "1        Lucas  2021-07-03 16:52:54  00:00:01   \n",
       "2        Lucas  2021-07-03 04:30:05  00:00:04   \n",
       "3        Lucas  2021-07-01 19:15:32  00:00:01   \n",
       "4        Lucas  2021-06-27 04:00:28  00:02:28   \n",
       "\n",
       "                                    Attributes  \\\n",
       "0                                          NaN   \n",
       "1  Autoplayed: user action: User_Interaction;    \n",
       "2              Autoplayed: user action: None;    \n",
       "3              Autoplayed: user action: None;    \n",
       "4                                          NaN   \n",
       "\n",
       "                                               Title Supplemental Video Type  \\\n",
       "0      Elite: Temporada 4: A nova ordem (Episódio 1)                     NaN   \n",
       "1      Elite: Temporada 4: A nova ordem (Episódio 1)                     NaN   \n",
       "2                      Temporada 2 (Trailer): Mortel                 TRAILER   \n",
       "3  O Mito de Sísifo: Temporada 1: Episódio 1 (Epi...                     NaN   \n",
       "4  The A List: Temporada 2: Quem nós realmente so...                     NaN   \n",
       "\n",
       "                           Device Type  Bookmark  Latest Bookmark      Country  \n",
       "0                  Chrome PC (Cadmium)  00:00:15         00:00:15  BR (Brazil)  \n",
       "1                  Chrome PC (Cadmium)  00:00:01  Not latest view  BR (Brazil)  \n",
       "2                  Chrome PC (Cadmium)  00:00:04         00:00:04  BR (Brazil)  \n",
       "3  Samsung 2017 Kant-M UHD TV Smart TV  00:00:01         00:00:01  BR (Brazil)  \n",
       "4                  Chrome PC (Cadmium)  00:25:15         00:25:15  BR (Brazil)  "
      ]
     },
     "execution_count": 40,
     "metadata": {},
     "output_type": "execute_result"
    }
   ],
   "source": [
    "# visualize initial information\n",
    "df.head()"
   ]
  },
  {
   "cell_type": "code",
   "execution_count": 41,
   "id": "50cf5469",
   "metadata": {},
   "outputs": [],
   "source": [
    "#drop irrelevant columns for the analysis\n",
    "df=df.drop(['Profile Name','Attributes','Supplemental Video Type','Bookmark','Latest Bookmark','Country'],axis=1)"
   ]
  },
  {
   "cell_type": "code",
   "execution_count": 42,
   "id": "69a1b9e0",
   "metadata": {},
   "outputs": [
    {
     "data": {
      "text/html": [
       "<div>\n",
       "<style scoped>\n",
       "    .dataframe tbody tr th:only-of-type {\n",
       "        vertical-align: middle;\n",
       "    }\n",
       "\n",
       "    .dataframe tbody tr th {\n",
       "        vertical-align: top;\n",
       "    }\n",
       "\n",
       "    .dataframe thead th {\n",
       "        text-align: right;\n",
       "    }\n",
       "</style>\n",
       "<table border=\"1\" class=\"dataframe\">\n",
       "  <thead>\n",
       "    <tr style=\"text-align: right;\">\n",
       "      <th></th>\n",
       "      <th>Start Time</th>\n",
       "      <th>Duration</th>\n",
       "      <th>Title</th>\n",
       "      <th>Device Type</th>\n",
       "    </tr>\n",
       "  </thead>\n",
       "  <tbody>\n",
       "    <tr>\n",
       "      <th>0</th>\n",
       "      <td>2021-07-04 04:14:11</td>\n",
       "      <td>00:00:14</td>\n",
       "      <td>Elite: Temporada 4: A nova ordem (Episódio 1)</td>\n",
       "      <td>Chrome PC (Cadmium)</td>\n",
       "    </tr>\n",
       "    <tr>\n",
       "      <th>1</th>\n",
       "      <td>2021-07-03 16:52:54</td>\n",
       "      <td>00:00:01</td>\n",
       "      <td>Elite: Temporada 4: A nova ordem (Episódio 1)</td>\n",
       "      <td>Chrome PC (Cadmium)</td>\n",
       "    </tr>\n",
       "    <tr>\n",
       "      <th>2</th>\n",
       "      <td>2021-07-03 04:30:05</td>\n",
       "      <td>00:00:04</td>\n",
       "      <td>Temporada 2 (Trailer): Mortel</td>\n",
       "      <td>Chrome PC (Cadmium)</td>\n",
       "    </tr>\n",
       "    <tr>\n",
       "      <th>3</th>\n",
       "      <td>2021-07-01 19:15:32</td>\n",
       "      <td>00:00:01</td>\n",
       "      <td>O Mito de Sísifo: Temporada 1: Episódio 1 (Epi...</td>\n",
       "      <td>Samsung 2017 Kant-M UHD TV Smart TV</td>\n",
       "    </tr>\n",
       "    <tr>\n",
       "      <th>4</th>\n",
       "      <td>2021-06-27 04:00:28</td>\n",
       "      <td>00:02:28</td>\n",
       "      <td>The A List: Temporada 2: Quem nós realmente so...</td>\n",
       "      <td>Chrome PC (Cadmium)</td>\n",
       "    </tr>\n",
       "  </tbody>\n",
       "</table>\n",
       "</div>"
      ],
      "text/plain": [
       "            Start Time  Duration  \\\n",
       "0  2021-07-04 04:14:11  00:00:14   \n",
       "1  2021-07-03 16:52:54  00:00:01   \n",
       "2  2021-07-03 04:30:05  00:00:04   \n",
       "3  2021-07-01 19:15:32  00:00:01   \n",
       "4  2021-06-27 04:00:28  00:02:28   \n",
       "\n",
       "                                               Title  \\\n",
       "0      Elite: Temporada 4: A nova ordem (Episódio 1)   \n",
       "1      Elite: Temporada 4: A nova ordem (Episódio 1)   \n",
       "2                      Temporada 2 (Trailer): Mortel   \n",
       "3  O Mito de Sísifo: Temporada 1: Episódio 1 (Epi...   \n",
       "4  The A List: Temporada 2: Quem nós realmente so...   \n",
       "\n",
       "                           Device Type  \n",
       "0                  Chrome PC (Cadmium)  \n",
       "1                  Chrome PC (Cadmium)  \n",
       "2                  Chrome PC (Cadmium)  \n",
       "3  Samsung 2017 Kant-M UHD TV Smart TV  \n",
       "4                  Chrome PC (Cadmium)  "
      ]
     },
     "execution_count": 42,
     "metadata": {},
     "output_type": "execute_result"
    }
   ],
   "source": [
    "df.head()"
   ]
  },
  {
   "cell_type": "code",
   "execution_count": 43,
   "id": "d0fddc04",
   "metadata": {},
   "outputs": [],
   "source": [
    "#Transform Start Time column to datetime\n",
    "df['Start Time'] = pd.to_datetime(df['Start Time'], utc=True)\n",
    "\n",
    "df = df.set_index('Start Time')\n",
    "\n",
    "# convert from UTC timezone to  Argentina Timezone, that happens to be the same as in Brazil\n",
    "df.index = df.index.tz_convert('America/Argentina/Catamarca')\n",
    "\n",
    "df = df.reset_index()"
   ]
  },
  {
   "cell_type": "code",
   "execution_count": 44,
   "id": "d7357206",
   "metadata": {},
   "outputs": [
    {
     "data": {
      "text/html": [
       "<div>\n",
       "<style scoped>\n",
       "    .dataframe tbody tr th:only-of-type {\n",
       "        vertical-align: middle;\n",
       "    }\n",
       "\n",
       "    .dataframe tbody tr th {\n",
       "        vertical-align: top;\n",
       "    }\n",
       "\n",
       "    .dataframe thead th {\n",
       "        text-align: right;\n",
       "    }\n",
       "</style>\n",
       "<table border=\"1\" class=\"dataframe\">\n",
       "  <thead>\n",
       "    <tr style=\"text-align: right;\">\n",
       "      <th></th>\n",
       "      <th>Start Time</th>\n",
       "      <th>Duration</th>\n",
       "      <th>Title</th>\n",
       "      <th>Device Type</th>\n",
       "    </tr>\n",
       "  </thead>\n",
       "  <tbody>\n",
       "    <tr>\n",
       "      <th>0</th>\n",
       "      <td>2021-07-04 01:14:11-03:00</td>\n",
       "      <td>00:00:14</td>\n",
       "      <td>Elite: Temporada 4: A nova ordem (Episódio 1)</td>\n",
       "      <td>Chrome PC (Cadmium)</td>\n",
       "    </tr>\n",
       "    <tr>\n",
       "      <th>1</th>\n",
       "      <td>2021-07-03 13:52:54-03:00</td>\n",
       "      <td>00:00:01</td>\n",
       "      <td>Elite: Temporada 4: A nova ordem (Episódio 1)</td>\n",
       "      <td>Chrome PC (Cadmium)</td>\n",
       "    </tr>\n",
       "    <tr>\n",
       "      <th>2</th>\n",
       "      <td>2021-07-03 01:30:05-03:00</td>\n",
       "      <td>00:00:04</td>\n",
       "      <td>Temporada 2 (Trailer): Mortel</td>\n",
       "      <td>Chrome PC (Cadmium)</td>\n",
       "    </tr>\n",
       "    <tr>\n",
       "      <th>3</th>\n",
       "      <td>2021-07-01 16:15:32-03:00</td>\n",
       "      <td>00:00:01</td>\n",
       "      <td>O Mito de Sísifo: Temporada 1: Episódio 1 (Epi...</td>\n",
       "      <td>Samsung 2017 Kant-M UHD TV Smart TV</td>\n",
       "    </tr>\n",
       "    <tr>\n",
       "      <th>4</th>\n",
       "      <td>2021-06-27 01:00:28-03:00</td>\n",
       "      <td>00:02:28</td>\n",
       "      <td>The A List: Temporada 2: Quem nós realmente so...</td>\n",
       "      <td>Chrome PC (Cadmium)</td>\n",
       "    </tr>\n",
       "  </tbody>\n",
       "</table>\n",
       "</div>"
      ],
      "text/plain": [
       "                 Start Time  Duration  \\\n",
       "0 2021-07-04 01:14:11-03:00  00:00:14   \n",
       "1 2021-07-03 13:52:54-03:00  00:00:01   \n",
       "2 2021-07-03 01:30:05-03:00  00:00:04   \n",
       "3 2021-07-01 16:15:32-03:00  00:00:01   \n",
       "4 2021-06-27 01:00:28-03:00  00:02:28   \n",
       "\n",
       "                                               Title  \\\n",
       "0      Elite: Temporada 4: A nova ordem (Episódio 1)   \n",
       "1      Elite: Temporada 4: A nova ordem (Episódio 1)   \n",
       "2                      Temporada 2 (Trailer): Mortel   \n",
       "3  O Mito de Sísifo: Temporada 1: Episódio 1 (Epi...   \n",
       "4  The A List: Temporada 2: Quem nós realmente so...   \n",
       "\n",
       "                           Device Type  \n",
       "0                  Chrome PC (Cadmium)  \n",
       "1                  Chrome PC (Cadmium)  \n",
       "2                  Chrome PC (Cadmium)  \n",
       "3  Samsung 2017 Kant-M UHD TV Smart TV  \n",
       "4                  Chrome PC (Cadmium)  "
      ]
     },
     "execution_count": 44,
     "metadata": {},
     "output_type": "execute_result"
    }
   ],
   "source": [
    "df.head()"
   ]
  },
  {
   "cell_type": "code",
   "execution_count": 45,
   "id": "20fc35a0",
   "metadata": {},
   "outputs": [
    {
     "name": "stdout",
     "output_type": "stream",
     "text": [
      "<class 'pandas.core.frame.DataFrame'>\n",
      "RangeIndex: 1994 entries, 0 to 1993\n",
      "Data columns (total 4 columns):\n",
      " #   Column       Non-Null Count  Dtype                                      \n",
      "---  ------       --------------  -----                                      \n",
      " 0   Start Time   1994 non-null   datetime64[ns, America/Argentina/Catamarca]\n",
      " 1   Duration     1994 non-null   object                                     \n",
      " 2   Title        1994 non-null   object                                     \n",
      " 3   Device Type  1994 non-null   object                                     \n",
      "dtypes: datetime64[ns, America/Argentina/Catamarca](1), object(3)\n",
      "memory usage: 62.4+ KB\n"
     ]
    }
   ],
   "source": [
    "df.info()"
   ]
  },
  {
   "cell_type": "code",
   "execution_count": 46,
   "id": "198229b6",
   "metadata": {},
   "outputs": [],
   "source": [
    "#Transform Duration column to TimeDelta\n",
    "df['Duration'] = pd.to_timedelta(df['Duration'])"
   ]
  },
  {
   "cell_type": "code",
   "execution_count": 47,
   "id": "351fb20b",
   "metadata": {},
   "outputs": [
    {
     "name": "stdout",
     "output_type": "stream",
     "text": [
      "<class 'pandas.core.frame.DataFrame'>\n",
      "RangeIndex: 1994 entries, 0 to 1993\n",
      "Data columns (total 4 columns):\n",
      " #   Column       Non-Null Count  Dtype                                      \n",
      "---  ------       --------------  -----                                      \n",
      " 0   Start Time   1994 non-null   datetime64[ns, America/Argentina/Catamarca]\n",
      " 1   Duration     1994 non-null   timedelta64[ns]                            \n",
      " 2   Title        1994 non-null   object                                     \n",
      " 3   Device Type  1994 non-null   object                                     \n",
      "dtypes: datetime64[ns, America/Argentina/Catamarca](1), object(2), timedelta64[ns](1)\n",
      "memory usage: 62.4+ KB\n"
     ]
    }
   ],
   "source": [
    "df.info()"
   ]
  },
  {
   "cell_type": "code",
   "execution_count": 48,
   "id": "6fefc528",
   "metadata": {},
   "outputs": [],
   "source": [
    "# Drop rows that are under 1 minute duration\n",
    "df = df[(df['Duration'] > '0 days 00:01:00')]"
   ]
  },
  {
   "cell_type": "code",
   "execution_count": 49,
   "id": "d614652a",
   "metadata": {},
   "outputs": [
    {
     "data": {
      "text/plain": [
       "(1387, 4)"
      ]
     },
     "execution_count": 49,
     "metadata": {},
     "output_type": "execute_result"
    }
   ],
   "source": [
    "df.shape"
   ]
  },
  {
   "cell_type": "markdown",
   "id": "e730d871",
   "metadata": {},
   "source": [
    "A lot of information was dropped from the dataset, possibly trailers and shows that I opened but not watched(I do that a lot of times)"
   ]
  },
  {
   "cell_type": "code",
   "execution_count": 50,
   "id": "41ec2976",
   "metadata": {},
   "outputs": [],
   "source": [
    "#Split The Title Column into 3 separate columns(Name,Season,Episode)\n",
    "df[['Name','Season','Episode']]=df['Title'].str.split('(Temporada \\w:)',expand=True)"
   ]
  },
  {
   "cell_type": "code",
   "execution_count": 51,
   "id": "f6caca84",
   "metadata": {},
   "outputs": [
    {
     "data": {
      "text/html": [
       "<div>\n",
       "<style scoped>\n",
       "    .dataframe tbody tr th:only-of-type {\n",
       "        vertical-align: middle;\n",
       "    }\n",
       "\n",
       "    .dataframe tbody tr th {\n",
       "        vertical-align: top;\n",
       "    }\n",
       "\n",
       "    .dataframe thead th {\n",
       "        text-align: right;\n",
       "    }\n",
       "</style>\n",
       "<table border=\"1\" class=\"dataframe\">\n",
       "  <thead>\n",
       "    <tr style=\"text-align: right;\">\n",
       "      <th></th>\n",
       "      <th>Start Time</th>\n",
       "      <th>Duration</th>\n",
       "      <th>Title</th>\n",
       "      <th>Device Type</th>\n",
       "      <th>Name</th>\n",
       "      <th>Season</th>\n",
       "      <th>Episode</th>\n",
       "    </tr>\n",
       "  </thead>\n",
       "  <tbody>\n",
       "    <tr>\n",
       "      <th>4</th>\n",
       "      <td>2021-06-27 01:00:28-03:00</td>\n",
       "      <td>0 days 00:02:28</td>\n",
       "      <td>The A List: Temporada 2: Quem nós realmente so...</td>\n",
       "      <td>Chrome PC (Cadmium)</td>\n",
       "      <td>The A List:</td>\n",
       "      <td>Temporada 2:</td>\n",
       "      <td>Quem nós realmente somos (Episódio 8)</td>\n",
       "    </tr>\n",
       "    <tr>\n",
       "      <th>5</th>\n",
       "      <td>2021-06-27 00:56:21-03:00</td>\n",
       "      <td>0 days 00:03:50</td>\n",
       "      <td>The A List: Temporada 2: Salvá-los (Episódio 7)</td>\n",
       "      <td>Chrome PC (Cadmium)</td>\n",
       "      <td>The A List:</td>\n",
       "      <td>Temporada 2:</td>\n",
       "      <td>Salvá-los (Episódio 7)</td>\n",
       "    </tr>\n",
       "    <tr>\n",
       "      <th>6</th>\n",
       "      <td>2021-06-27 00:52:36-03:00</td>\n",
       "      <td>0 days 00:03:25</td>\n",
       "      <td>The A List: Temporada 2: Devido a quem eu sou ...</td>\n",
       "      <td>Chrome PC (Cadmium)</td>\n",
       "      <td>The A List:</td>\n",
       "      <td>Temporada 2:</td>\n",
       "      <td>Devido a quem eu sou (Episódio 6)</td>\n",
       "    </tr>\n",
       "    <tr>\n",
       "      <th>7</th>\n",
       "      <td>2021-06-27 00:50:28-03:00</td>\n",
       "      <td>0 days 00:01:54</td>\n",
       "      <td>The A List: Temporada 2: Merecemos um ao outro...</td>\n",
       "      <td>Chrome PC (Cadmium)</td>\n",
       "      <td>The A List:</td>\n",
       "      <td>Temporada 2:</td>\n",
       "      <td>Merecemos um ao outro (Episódio 5)</td>\n",
       "    </tr>\n",
       "    <tr>\n",
       "      <th>8</th>\n",
       "      <td>2021-06-27 00:45:15-03:00</td>\n",
       "      <td>0 days 00:04:53</td>\n",
       "      <td>The A List: Temporada 2: Nunca fomos amigas (E...</td>\n",
       "      <td>Chrome PC (Cadmium)</td>\n",
       "      <td>The A List:</td>\n",
       "      <td>Temporada 2:</td>\n",
       "      <td>Nunca fomos amigas (Episódio 4)</td>\n",
       "    </tr>\n",
       "  </tbody>\n",
       "</table>\n",
       "</div>"
      ],
      "text/plain": [
       "                 Start Time        Duration  \\\n",
       "4 2021-06-27 01:00:28-03:00 0 days 00:02:28   \n",
       "5 2021-06-27 00:56:21-03:00 0 days 00:03:50   \n",
       "6 2021-06-27 00:52:36-03:00 0 days 00:03:25   \n",
       "7 2021-06-27 00:50:28-03:00 0 days 00:01:54   \n",
       "8 2021-06-27 00:45:15-03:00 0 days 00:04:53   \n",
       "\n",
       "                                               Title          Device Type  \\\n",
       "4  The A List: Temporada 2: Quem nós realmente so...  Chrome PC (Cadmium)   \n",
       "5    The A List: Temporada 2: Salvá-los (Episódio 7)  Chrome PC (Cadmium)   \n",
       "6  The A List: Temporada 2: Devido a quem eu sou ...  Chrome PC (Cadmium)   \n",
       "7  The A List: Temporada 2: Merecemos um ao outro...  Chrome PC (Cadmium)   \n",
       "8  The A List: Temporada 2: Nunca fomos amigas (E...  Chrome PC (Cadmium)   \n",
       "\n",
       "           Name        Season                                 Episode  \n",
       "4  The A List:   Temporada 2:   Quem nós realmente somos (Episódio 8)  \n",
       "5  The A List:   Temporada 2:                  Salvá-los (Episódio 7)  \n",
       "6  The A List:   Temporada 2:       Devido a quem eu sou (Episódio 6)  \n",
       "7  The A List:   Temporada 2:      Merecemos um ao outro (Episódio 5)  \n",
       "8  The A List:   Temporada 2:         Nunca fomos amigas (Episódio 4)  "
      ]
     },
     "execution_count": 51,
     "metadata": {},
     "output_type": "execute_result"
    }
   ],
   "source": [
    "df.head()"
   ]
  },
  {
   "cell_type": "markdown",
   "id": "63b7f2b0",
   "metadata": {},
   "source": [
    "We can see that the last show that I watched was 'The A List' Season 2"
   ]
  },
  {
   "cell_type": "markdown",
   "id": "0f2aedc6",
   "metadata": {},
   "source": [
    "# Analyzing the Data"
   ]
  },
  {
   "cell_type": "markdown",
   "id": "f58e442a",
   "metadata": {},
   "source": [
    "Lets see an analysis of one of my favorite shows as a Sports Fan: 'F1: Drive to Survive'"
   ]
  },
  {
   "cell_type": "code",
   "execution_count": 52,
   "id": "c1157f2d",
   "metadata": {},
   "outputs": [],
   "source": [
    "#Filter the dataset using str.contains\n",
    "f1 = df[df['Title'].str.contains('F1: Dirigir', regex=False)]"
   ]
  },
  {
   "cell_type": "code",
   "execution_count": 53,
   "id": "8085f8ef",
   "metadata": {},
   "outputs": [
    {
     "data": {
      "text/html": [
       "<div>\n",
       "<style scoped>\n",
       "    .dataframe tbody tr th:only-of-type {\n",
       "        vertical-align: middle;\n",
       "    }\n",
       "\n",
       "    .dataframe tbody tr th {\n",
       "        vertical-align: top;\n",
       "    }\n",
       "\n",
       "    .dataframe thead th {\n",
       "        text-align: right;\n",
       "    }\n",
       "</style>\n",
       "<table border=\"1\" class=\"dataframe\">\n",
       "  <thead>\n",
       "    <tr style=\"text-align: right;\">\n",
       "      <th></th>\n",
       "      <th>Start Time</th>\n",
       "      <th>Duration</th>\n",
       "      <th>Title</th>\n",
       "      <th>Device Type</th>\n",
       "      <th>Name</th>\n",
       "      <th>Season</th>\n",
       "      <th>Episode</th>\n",
       "    </tr>\n",
       "  </thead>\n",
       "  <tbody>\n",
       "    <tr>\n",
       "      <th>241</th>\n",
       "      <td>2021-04-02 05:50:23-03:00</td>\n",
       "      <td>0 days 00:16:40</td>\n",
       "      <td>F1: Dirigir para Viver: Temporada 3: A batalha...</td>\n",
       "      <td>Chrome PC (Cadmium)</td>\n",
       "      <td>F1: Dirigir para Viver:</td>\n",
       "      <td>Temporada 3:</td>\n",
       "      <td>A batalha chega ao fim (Episódio 10)</td>\n",
       "    </tr>\n",
       "    <tr>\n",
       "      <th>242</th>\n",
       "      <td>2021-04-02 05:12:04-03:00</td>\n",
       "      <td>0 days 00:36:32</td>\n",
       "      <td>F1: Dirigir para Viver: Temporada 3: Um grave ...</td>\n",
       "      <td>Chrome PC (Cadmium)</td>\n",
       "      <td>F1: Dirigir para Viver:</td>\n",
       "      <td>Temporada 3:</td>\n",
       "      <td>Um grave acidente (Episódio 9)</td>\n",
       "    </tr>\n",
       "    <tr>\n",
       "      <th>243</th>\n",
       "      <td>2021-04-02 04:49:07-03:00</td>\n",
       "      <td>0 days 00:22:40</td>\n",
       "      <td>F1: Dirigir para Viver: Temporada 3: Sem arrep...</td>\n",
       "      <td>Chrome PC (Cadmium)</td>\n",
       "      <td>F1: Dirigir para Viver:</td>\n",
       "      <td>Temporada 3:</td>\n",
       "      <td>Sem arrependimentos (Episódio 8)</td>\n",
       "    </tr>\n",
       "    <tr>\n",
       "      <th>244</th>\n",
       "      <td>2021-04-02 04:20:36-03:00</td>\n",
       "      <td>0 days 00:28:12</td>\n",
       "      <td>F1: Dirigir para Viver: Temporada 3: A difícil...</td>\n",
       "      <td>Chrome PC (Cadmium)</td>\n",
       "      <td>F1: Dirigir para Viver:</td>\n",
       "      <td>Temporada 3:</td>\n",
       "      <td>A difícil escolha de Guenther Steiner (Episód...</td>\n",
       "    </tr>\n",
       "    <tr>\n",
       "      <th>246</th>\n",
       "      <td>2021-04-01 05:50:26-03:00</td>\n",
       "      <td>0 days 00:19:13</td>\n",
       "      <td>F1: Dirigir para Viver: Temporada 3: O retorno...</td>\n",
       "      <td>Chrome PC (Cadmium)</td>\n",
       "      <td>F1: Dirigir para Viver:</td>\n",
       "      <td>Temporada 3:</td>\n",
       "      <td>O retorno (Episódio 6)</td>\n",
       "    </tr>\n",
       "  </tbody>\n",
       "</table>\n",
       "</div>"
      ],
      "text/plain": [
       "                   Start Time        Duration  \\\n",
       "241 2021-04-02 05:50:23-03:00 0 days 00:16:40   \n",
       "242 2021-04-02 05:12:04-03:00 0 days 00:36:32   \n",
       "243 2021-04-02 04:49:07-03:00 0 days 00:22:40   \n",
       "244 2021-04-02 04:20:36-03:00 0 days 00:28:12   \n",
       "246 2021-04-01 05:50:26-03:00 0 days 00:19:13   \n",
       "\n",
       "                                                 Title          Device Type  \\\n",
       "241  F1: Dirigir para Viver: Temporada 3: A batalha...  Chrome PC (Cadmium)   \n",
       "242  F1: Dirigir para Viver: Temporada 3: Um grave ...  Chrome PC (Cadmium)   \n",
       "243  F1: Dirigir para Viver: Temporada 3: Sem arrep...  Chrome PC (Cadmium)   \n",
       "244  F1: Dirigir para Viver: Temporada 3: A difícil...  Chrome PC (Cadmium)   \n",
       "246  F1: Dirigir para Viver: Temporada 3: O retorno...  Chrome PC (Cadmium)   \n",
       "\n",
       "                         Name        Season  \\\n",
       "241  F1: Dirigir para Viver:   Temporada 3:   \n",
       "242  F1: Dirigir para Viver:   Temporada 3:   \n",
       "243  F1: Dirigir para Viver:   Temporada 3:   \n",
       "244  F1: Dirigir para Viver:   Temporada 3:   \n",
       "246  F1: Dirigir para Viver:   Temporada 3:   \n",
       "\n",
       "                                               Episode  \n",
       "241               A batalha chega ao fim (Episódio 10)  \n",
       "242                     Um grave acidente (Episódio 9)  \n",
       "243                   Sem arrependimentos (Episódio 8)  \n",
       "244   A difícil escolha de Guenther Steiner (Episód...  \n",
       "246                             O retorno (Episódio 6)  "
      ]
     },
     "execution_count": 53,
     "metadata": {},
     "output_type": "execute_result"
    }
   ],
   "source": [
    "#It was successful as we can see\n",
    "f1.head()"
   ]
  },
  {
   "cell_type": "markdown",
   "id": "664784d3",
   "metadata": {},
   "source": [
    "The show's episodes tend to have approximately 40 minutes, and we can see that the duration column doesn't correspond with that information.\n",
    "\n",
    "This has to be with my habit to 'jump' some parts of the episode that I think are irrelevant or parts that I already know what happened, not just with that show but for most shows I watch.\n"
   ]
  },
  {
   "cell_type": "code",
   "execution_count": 54,
   "id": "3b014550",
   "metadata": {},
   "outputs": [
    {
     "data": {
      "text/plain": [
       "(35, 7)"
      ]
     },
     "execution_count": 54,
     "metadata": {},
     "output_type": "execute_result"
    }
   ],
   "source": [
    "f1.shape"
   ]
  },
  {
   "cell_type": "markdown",
   "id": "7321df48",
   "metadata": {},
   "source": [
    "The show has 10 episodes per season, and the dataset has 35 rows, which probably means that i watched all episodes and split some episodes in parts.\n",
    "What is accurate as I don't have the habit of rewatch shows"
   ]
  },
  {
   "cell_type": "markdown",
   "id": "54ade901",
   "metadata": {},
   "source": [
    "# When do I watch F1:Drive to survive"
   ]
  },
  {
   "cell_type": "code",
   "execution_count": 55,
   "id": "9092ff2d",
   "metadata": {},
   "outputs": [],
   "source": [
    "#Let do some tranformation first \n",
    "# We have to just use the dt.weekday and dt.hour here, because we already change the column to datetime type\n",
    "f1['weekday'] = f1['Start Time'].dt.weekday\n",
    "f1['hour'] = f1['Start Time'].dt.hour"
   ]
  },
  {
   "cell_type": "code",
   "execution_count": 56,
   "id": "24b878fd",
   "metadata": {},
   "outputs": [
    {
     "data": {
      "text/html": [
       "<div>\n",
       "<style scoped>\n",
       "    .dataframe tbody tr th:only-of-type {\n",
       "        vertical-align: middle;\n",
       "    }\n",
       "\n",
       "    .dataframe tbody tr th {\n",
       "        vertical-align: top;\n",
       "    }\n",
       "\n",
       "    .dataframe thead th {\n",
       "        text-align: right;\n",
       "    }\n",
       "</style>\n",
       "<table border=\"1\" class=\"dataframe\">\n",
       "  <thead>\n",
       "    <tr style=\"text-align: right;\">\n",
       "      <th></th>\n",
       "      <th>Start Time</th>\n",
       "      <th>Duration</th>\n",
       "      <th>Title</th>\n",
       "      <th>Device Type</th>\n",
       "      <th>Name</th>\n",
       "      <th>Season</th>\n",
       "      <th>Episode</th>\n",
       "      <th>weekday</th>\n",
       "      <th>hour</th>\n",
       "    </tr>\n",
       "  </thead>\n",
       "  <tbody>\n",
       "    <tr>\n",
       "      <th>241</th>\n",
       "      <td>2021-04-02 05:50:23-03:00</td>\n",
       "      <td>0 days 00:16:40</td>\n",
       "      <td>F1: Dirigir para Viver: Temporada 3: A batalha...</td>\n",
       "      <td>Chrome PC (Cadmium)</td>\n",
       "      <td>F1: Dirigir para Viver:</td>\n",
       "      <td>Temporada 3:</td>\n",
       "      <td>A batalha chega ao fim (Episódio 10)</td>\n",
       "      <td>4</td>\n",
       "      <td>5</td>\n",
       "    </tr>\n",
       "    <tr>\n",
       "      <th>242</th>\n",
       "      <td>2021-04-02 05:12:04-03:00</td>\n",
       "      <td>0 days 00:36:32</td>\n",
       "      <td>F1: Dirigir para Viver: Temporada 3: Um grave ...</td>\n",
       "      <td>Chrome PC (Cadmium)</td>\n",
       "      <td>F1: Dirigir para Viver:</td>\n",
       "      <td>Temporada 3:</td>\n",
       "      <td>Um grave acidente (Episódio 9)</td>\n",
       "      <td>4</td>\n",
       "      <td>5</td>\n",
       "    </tr>\n",
       "    <tr>\n",
       "      <th>243</th>\n",
       "      <td>2021-04-02 04:49:07-03:00</td>\n",
       "      <td>0 days 00:22:40</td>\n",
       "      <td>F1: Dirigir para Viver: Temporada 3: Sem arrep...</td>\n",
       "      <td>Chrome PC (Cadmium)</td>\n",
       "      <td>F1: Dirigir para Viver:</td>\n",
       "      <td>Temporada 3:</td>\n",
       "      <td>Sem arrependimentos (Episódio 8)</td>\n",
       "      <td>4</td>\n",
       "      <td>4</td>\n",
       "    </tr>\n",
       "    <tr>\n",
       "      <th>244</th>\n",
       "      <td>2021-04-02 04:20:36-03:00</td>\n",
       "      <td>0 days 00:28:12</td>\n",
       "      <td>F1: Dirigir para Viver: Temporada 3: A difícil...</td>\n",
       "      <td>Chrome PC (Cadmium)</td>\n",
       "      <td>F1: Dirigir para Viver:</td>\n",
       "      <td>Temporada 3:</td>\n",
       "      <td>A difícil escolha de Guenther Steiner (Episód...</td>\n",
       "      <td>4</td>\n",
       "      <td>4</td>\n",
       "    </tr>\n",
       "    <tr>\n",
       "      <th>246</th>\n",
       "      <td>2021-04-01 05:50:26-03:00</td>\n",
       "      <td>0 days 00:19:13</td>\n",
       "      <td>F1: Dirigir para Viver: Temporada 3: O retorno...</td>\n",
       "      <td>Chrome PC (Cadmium)</td>\n",
       "      <td>F1: Dirigir para Viver:</td>\n",
       "      <td>Temporada 3:</td>\n",
       "      <td>O retorno (Episódio 6)</td>\n",
       "      <td>3</td>\n",
       "      <td>5</td>\n",
       "    </tr>\n",
       "  </tbody>\n",
       "</table>\n",
       "</div>"
      ],
      "text/plain": [
       "                   Start Time        Duration  \\\n",
       "241 2021-04-02 05:50:23-03:00 0 days 00:16:40   \n",
       "242 2021-04-02 05:12:04-03:00 0 days 00:36:32   \n",
       "243 2021-04-02 04:49:07-03:00 0 days 00:22:40   \n",
       "244 2021-04-02 04:20:36-03:00 0 days 00:28:12   \n",
       "246 2021-04-01 05:50:26-03:00 0 days 00:19:13   \n",
       "\n",
       "                                                 Title          Device Type  \\\n",
       "241  F1: Dirigir para Viver: Temporada 3: A batalha...  Chrome PC (Cadmium)   \n",
       "242  F1: Dirigir para Viver: Temporada 3: Um grave ...  Chrome PC (Cadmium)   \n",
       "243  F1: Dirigir para Viver: Temporada 3: Sem arrep...  Chrome PC (Cadmium)   \n",
       "244  F1: Dirigir para Viver: Temporada 3: A difícil...  Chrome PC (Cadmium)   \n",
       "246  F1: Dirigir para Viver: Temporada 3: O retorno...  Chrome PC (Cadmium)   \n",
       "\n",
       "                         Name        Season  \\\n",
       "241  F1: Dirigir para Viver:   Temporada 3:   \n",
       "242  F1: Dirigir para Viver:   Temporada 3:   \n",
       "243  F1: Dirigir para Viver:   Temporada 3:   \n",
       "244  F1: Dirigir para Viver:   Temporada 3:   \n",
       "246  F1: Dirigir para Viver:   Temporada 3:   \n",
       "\n",
       "                                               Episode  weekday  hour  \n",
       "241               A batalha chega ao fim (Episódio 10)        4     5  \n",
       "242                     Um grave acidente (Episódio 9)        4     5  \n",
       "243                   Sem arrependimentos (Episódio 8)        4     4  \n",
       "244   A difícil escolha de Guenther Steiner (Episód...        4     4  \n",
       "246                             O retorno (Episódio 6)        3     5  "
      ]
     },
     "execution_count": 56,
     "metadata": {},
     "output_type": "execute_result"
    }
   ],
   "source": [
    "f1.head()"
   ]
  },
  {
   "cell_type": "code",
   "execution_count": 57,
   "id": "66603747",
   "metadata": {},
   "outputs": [
    {
     "data": {
      "text/html": [
       "<div>\n",
       "<style scoped>\n",
       "    .dataframe tbody tr th:only-of-type {\n",
       "        vertical-align: middle;\n",
       "    }\n",
       "\n",
       "    .dataframe tbody tr th {\n",
       "        vertical-align: top;\n",
       "    }\n",
       "\n",
       "    .dataframe thead th {\n",
       "        text-align: right;\n",
       "    }\n",
       "</style>\n",
       "<table border=\"1\" class=\"dataframe\">\n",
       "  <thead>\n",
       "    <tr style=\"text-align: right;\">\n",
       "      <th></th>\n",
       "      <th>Start Time</th>\n",
       "      <th>Duration</th>\n",
       "      <th>Title</th>\n",
       "      <th>Device Type</th>\n",
       "      <th>Name</th>\n",
       "      <th>Season</th>\n",
       "      <th>Episode</th>\n",
       "      <th>weekday</th>\n",
       "      <th>hour</th>\n",
       "    </tr>\n",
       "  </thead>\n",
       "  <tbody>\n",
       "    <tr>\n",
       "      <th>241</th>\n",
       "      <td>2021-04-02 05:50:23-03:00</td>\n",
       "      <td>0 days 00:16:40</td>\n",
       "      <td>F1: Dirigir para Viver: Temporada 3: A batalha...</td>\n",
       "      <td>Chrome PC (Cadmium)</td>\n",
       "      <td>F1: Dirigir para Viver:</td>\n",
       "      <td>Temporada 3:</td>\n",
       "      <td>A batalha chega ao fim (Episódio 10)</td>\n",
       "      <td>4</td>\n",
       "      <td>5</td>\n",
       "    </tr>\n",
       "    <tr>\n",
       "      <th>242</th>\n",
       "      <td>2021-04-02 05:12:04-03:00</td>\n",
       "      <td>0 days 00:36:32</td>\n",
       "      <td>F1: Dirigir para Viver: Temporada 3: Um grave ...</td>\n",
       "      <td>Chrome PC (Cadmium)</td>\n",
       "      <td>F1: Dirigir para Viver:</td>\n",
       "      <td>Temporada 3:</td>\n",
       "      <td>Um grave acidente (Episódio 9)</td>\n",
       "      <td>4</td>\n",
       "      <td>5</td>\n",
       "    </tr>\n",
       "    <tr>\n",
       "      <th>243</th>\n",
       "      <td>2021-04-02 04:49:07-03:00</td>\n",
       "      <td>0 days 00:22:40</td>\n",
       "      <td>F1: Dirigir para Viver: Temporada 3: Sem arrep...</td>\n",
       "      <td>Chrome PC (Cadmium)</td>\n",
       "      <td>F1: Dirigir para Viver:</td>\n",
       "      <td>Temporada 3:</td>\n",
       "      <td>Sem arrependimentos (Episódio 8)</td>\n",
       "      <td>4</td>\n",
       "      <td>4</td>\n",
       "    </tr>\n",
       "    <tr>\n",
       "      <th>244</th>\n",
       "      <td>2021-04-02 04:20:36-03:00</td>\n",
       "      <td>0 days 00:28:12</td>\n",
       "      <td>F1: Dirigir para Viver: Temporada 3: A difícil...</td>\n",
       "      <td>Chrome PC (Cadmium)</td>\n",
       "      <td>F1: Dirigir para Viver:</td>\n",
       "      <td>Temporada 3:</td>\n",
       "      <td>A difícil escolha de Guenther Steiner (Episód...</td>\n",
       "      <td>4</td>\n",
       "      <td>4</td>\n",
       "    </tr>\n",
       "    <tr>\n",
       "      <th>246</th>\n",
       "      <td>2021-04-01 05:50:26-03:00</td>\n",
       "      <td>0 days 00:19:13</td>\n",
       "      <td>F1: Dirigir para Viver: Temporada 3: O retorno...</td>\n",
       "      <td>Chrome PC (Cadmium)</td>\n",
       "      <td>F1: Dirigir para Viver:</td>\n",
       "      <td>Temporada 3:</td>\n",
       "      <td>O retorno (Episódio 6)</td>\n",
       "      <td>3</td>\n",
       "      <td>5</td>\n",
       "    </tr>\n",
       "  </tbody>\n",
       "</table>\n",
       "</div>"
      ],
      "text/plain": [
       "                   Start Time        Duration  \\\n",
       "241 2021-04-02 05:50:23-03:00 0 days 00:16:40   \n",
       "242 2021-04-02 05:12:04-03:00 0 days 00:36:32   \n",
       "243 2021-04-02 04:49:07-03:00 0 days 00:22:40   \n",
       "244 2021-04-02 04:20:36-03:00 0 days 00:28:12   \n",
       "246 2021-04-01 05:50:26-03:00 0 days 00:19:13   \n",
       "\n",
       "                                                 Title          Device Type  \\\n",
       "241  F1: Dirigir para Viver: Temporada 3: A batalha...  Chrome PC (Cadmium)   \n",
       "242  F1: Dirigir para Viver: Temporada 3: Um grave ...  Chrome PC (Cadmium)   \n",
       "243  F1: Dirigir para Viver: Temporada 3: Sem arrep...  Chrome PC (Cadmium)   \n",
       "244  F1: Dirigir para Viver: Temporada 3: A difícil...  Chrome PC (Cadmium)   \n",
       "246  F1: Dirigir para Viver: Temporada 3: O retorno...  Chrome PC (Cadmium)   \n",
       "\n",
       "                         Name        Season  \\\n",
       "241  F1: Dirigir para Viver:   Temporada 3:   \n",
       "242  F1: Dirigir para Viver:   Temporada 3:   \n",
       "243  F1: Dirigir para Viver:   Temporada 3:   \n",
       "244  F1: Dirigir para Viver:   Temporada 3:   \n",
       "246  F1: Dirigir para Viver:   Temporada 3:   \n",
       "\n",
       "                                               Episode weekday  hour  \n",
       "241               A batalha chega ao fim (Episódio 10)       4     5  \n",
       "242                     Um grave acidente (Episódio 9)       4     5  \n",
       "243                   Sem arrependimentos (Episódio 8)       4     4  \n",
       "244   A difícil escolha de Guenther Steiner (Episód...       4     4  \n",
       "246                             O retorno (Episódio 6)       3     5  "
      ]
     },
     "execution_count": 57,
     "metadata": {},
     "output_type": "execute_result"
    }
   ],
   "source": [
    "f1['weekday'] = pd.Categorical(f1['weekday'], categories=\n",
    "    [0,1,2,3,4,5,6],ordered=True)\n",
    "f1.head()"
   ]
  },
  {
   "cell_type": "code",
   "execution_count": 58,
   "id": "56e59389",
   "metadata": {},
   "outputs": [
    {
     "data": {
      "text/plain": [
       "[Text(0, 0, 'Mon'),\n",
       " Text(1, 0, 'Tue'),\n",
       " Text(2, 0, 'Wed'),\n",
       " Text(3, 0, 'Thus'),\n",
       " Text(4, 0, 'Fri'),\n",
       " Text(5, 0, 'Sat'),\n",
       " Text(6, 0, 'Sun')]"
      ]
     },
     "execution_count": 58,
     "metadata": {},
     "output_type": "execute_result"
    },
    {
     "data": {
      "image/png": "[encoded data removed]",
      "text/plain": [
       "<Figure size 1440x720 with 1 Axes>"
      ]
     },
     "metadata": {
      "needs_background": "light"
     },
     "output_type": "display_data"
    }
   ],
   "source": [
    "f1_day = f1['weekday'].value_counts()\n",
    "\n",
    "# sort the index \n",
    "f1_day = f1_day.sort_index()\n",
    "\n",
    "#set the labels\n",
    "labels = ['Mon', 'Tue', 'Wed','Thus','Fri','Sat','Sun']\n",
    "\n",
    "#plot the data\n",
    "ax=f1_day.plot(kind='bar', figsize=(20,10), title='F1 Episodes Watched by Day')\n",
    "ax.set_xticklabels(labels)\n"
   ]
  },
  {
   "cell_type": "markdown",
   "id": "c84f42fc",
   "metadata": {},
   "source": [
    "So this graph was a shock for me!!\n",
    "\n",
    "The fact that i watch the most on Sunday was a fact that i already suspected,because that's generally the day i like to watch shows, but the fact that i never watched this show on Saturday was so unbeliavable that I'm questioning myself if this is true.\n",
    "\n",
    "I guess that has to be with the fact that i like to marathon shows,instead of watching splitted.\n"
   ]
  },
  {
   "cell_type": "code",
   "execution_count": 59,
   "id": "2d4035b6",
   "metadata": {},
   "outputs": [
    {
     "data": {
      "image/png": "[encoded data removed]",
      "text/plain": [
       "<Figure size 1440x720 with 1 Axes>"
      ]
     },
     "metadata": {
      "needs_background": "light"
     },
     "output_type": "display_data"
    }
   ],
   "source": [
    "f1['hour'] = pd.Categorical(f1['hour'], categories=\n",
    "    [0,1,2,3,4,5,6,7,8,9,10,11,12,13,14,15,16,17,18,19,20,21,22,23],\n",
    "    ordered=True)\n",
    "\n",
    "\n",
    "f1_hour = f1['hour'].value_counts()\n",
    "\n",
    "#sort index by hour\n",
    "f1_hour = f1_hour.sort_index()\n",
    "\n",
    "# plot the data\n",
    "ax=f1_hour.plot(kind='bar', figsize=(20,10), title='F1 Episodes Watched by Hour')"
   ]
  },
  {
   "cell_type": "markdown",
   "id": "ab064a04",
   "metadata": {},
   "source": [
    "As we can see the graph shows that i saw most shows at night and at dawn, which is true because I enjoyed to marathon shows at that period of time in my vacations.And this show is probably one of them!"
   ]
  },
  {
   "cell_type": "markdown",
   "id": "ec2ccfff",
   "metadata": {},
   "source": [
    "# Future Work"
   ]
  },
  {
   "cell_type": "code",
   "execution_count": 60,
   "id": "670d41d4",
   "metadata": {},
   "outputs": [
    {
     "data": {
      "text/plain": [
       "Name\n",
       "Sex Education:                                                                 0 days 17:42:34\n",
       "F1: Dirigir para Viver:                                                        0 days 12:15:58\n",
       "O Mecanismo:                                                                   0 days 11:32:22\n",
       "Shadowhunters: The Mortal Instruments:                                         0 days 10:46:31\n",
       "Jurassic World: Acampamento Jurássico:                                         0 days 07:14:14\n",
       "                                                                                     ...      \n",
       "Kakegurui: Kakegurui xx: A garota traidora (Episódio 7)                        0 days 00:01:07\n",
       "Os cavaleiros do zodíaco Hades: Santuário: Momento de Hesitacao (Episódio 8)   0 days 00:01:06\n",
       "La casa de papel: Parte 4: Cinco minutos antes (Episódio 5)                    0 days 00:01:04\n",
       "A Desordem que Ficou: Minissérie: O caos que vocês criaram (Episódio 8)        0 days 00:01:04\n",
       "Sex/Life:                                                                      0 days 00:01:03\n",
       "Name: Duration, Length: 370, dtype: timedelta64[ns]"
      ]
     },
     "execution_count": 60,
     "metadata": {},
     "output_type": "execute_result"
    }
   ],
   "source": [
    "df.groupby('Name')['Duration'].sum().sort_values(ascending=False)"
   ]
  },
  {
   "cell_type": "code",
   "execution_count": null,
   "id": "fcf6ccc1",
   "metadata": {},
   "outputs": [],
   "source": []
  },
  {
   "cell_type": "code",
   "execution_count": null,
   "id": "1c839e5b",
   "metadata": {},
   "outputs": [],
   "source": [
    "\n"
   ]
  },
  {
   "cell_type": "code",
   "execution_count": null,
   "id": "856236d0",
   "metadata": {},
   "outputs": [],
   "source": []
  },
  {
   "cell_type": "code",
   "execution_count": null,
   "id": "df3949c9",
   "metadata": {},
   "outputs": [],
   "source": []
  },
  {
   "cell_type": "code",
   "execution_count": null,
   "id": "8674ff7e",
   "metadata": {},
   "outputs": [],
   "source": []
  },
  {
   "cell_type": "code",
   "execution_count": null,
   "id": "43fde891",
   "metadata": {},
   "outputs": [],
   "source": []
  },
  {
   "cell_type": "code",
   "execution_count": null,
   "id": "b3071e56",
   "metadata": {},
   "outputs": [],
   "source": []
  }
 ],
 "metadata": {
  "kernelspec": {
   "display_name": "Python 3 (ipykernel)",
   "language": "python",
   "name": "python3"
  },
  "language_info": {
   "codemirror_mode": {
    "name": "ipython",
    "version": 3
   },
   "file_extension": ".py",
   "mimetype": "text/x-python",
   "name": "python",
   "nbconvert_exporter": "python",
   "pygments_lexer": "ipython3",
   "version": "3.8.8"
  }
 },
 "nbformat": 4,
 "nbformat_minor": 5
}
